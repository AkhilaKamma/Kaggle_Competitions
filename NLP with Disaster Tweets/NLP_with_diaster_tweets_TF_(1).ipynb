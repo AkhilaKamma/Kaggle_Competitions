{
  "nbformat": 4,
  "nbformat_minor": 0,
  "metadata": {
    "colab": {
      "provenance": []
    },
    "kernelspec": {
      "name": "python3",
      "display_name": "Python 3"
    },
    "language_info": {
      "name": "python"
    }
  },
  "cells": [
    {
      "cell_type": "code",
      "execution_count": 4,
      "metadata": {
        "id": "-INlf6YmOLvi"
      },
      "outputs": [],
      "source": [
        "import pandas as  pd\n",
        "import numpy as np\n",
        "import seaborn as sns\n",
        "import matplotlib.pyplot as plt\n",
        "\n",
        "\n",
        "#TensorfloW PACKAGES\n",
        "\n",
        "import tensorflow as tf\n",
        "from tensorflow import keras\n",
        "from tensorflow.keras import layers\n",
        "from sklearn.utils import shuffle"
      ]
    },
    {
      "cell_type": "code",
      "source": [
        "train = pd.read_csv('train.csv')\n",
        "test = pd.read_csv('test.csv')\n",
        "sample = pd.read_csv('sample_submission.csv')"
      ],
      "metadata": {
        "id": "r7u7JZDyOr6p"
      },
      "execution_count": 5,
      "outputs": []
    },
    {
      "cell_type": "code",
      "source": [],
      "metadata": {
        "id": "w35zh0x_PFj6"
      },
      "execution_count": 5,
      "outputs": []
    },
    {
      "cell_type": "code",
      "source": [
        "train.drop(['keyword','location'],axis=1,inplace=True)\n",
        "test.drop(['location','keyword'],axis=1,inplace=True)"
      ],
      "metadata": {
        "id": "t78iSBS2Oz9A"
      },
      "execution_count": 6,
      "outputs": []
    },
    {
      "cell_type": "code",
      "source": [
        "SEED = 4243\n",
        "TARGET = \"target\""
      ],
      "metadata": {
        "id": "nOsb_zxjPP16"
      },
      "execution_count": 7,
      "outputs": []
    },
    {
      "cell_type": "code",
      "source": [
        "train = shuffle(train, random_state=SEED)\n",
        "train = shuffle(train, random_state=int(SEED/2))\n",
        "train.head()"
      ],
      "metadata": {
        "colab": {
          "base_uri": "https://localhost:8080/",
          "height": 206
        },
        "id": "3EcRGNOEPErD",
        "outputId": "bbb904cd-9800-490b-84f8-a47f4d53877d"
      },
      "execution_count": 8,
      "outputs": [
        {
          "output_type": "execute_result",
          "data": {
            "text/plain": [
              "         id                                               text  target\n",
              "2342   3369  #download &amp; #watch Demolition Frog (2002) ...       1\n",
              "6001   8572    @heyot6 Im not home. I need to watch. [Screams]       0\n",
              "6876   9859  Back in Ireland v. sad/traumatised as is freez...       0\n",
              "7397  10584  Texas Seeks Comment on Rules for Changes to Wi...       0\n",
              "1683   2428  The Witches of the Glass Castle. Supernatural ...       0"
            ],
            "text/html": [
              "\n",
              "  <div id=\"df-50f26535-c1d5-4e55-88d9-1642c73aaa76\" class=\"colab-df-container\">\n",
              "    <div>\n",
              "<style scoped>\n",
              "    .dataframe tbody tr th:only-of-type {\n",
              "        vertical-align: middle;\n",
              "    }\n",
              "\n",
              "    .dataframe tbody tr th {\n",
              "        vertical-align: top;\n",
              "    }\n",
              "\n",
              "    .dataframe thead th {\n",
              "        text-align: right;\n",
              "    }\n",
              "</style>\n",
              "<table border=\"1\" class=\"dataframe\">\n",
              "  <thead>\n",
              "    <tr style=\"text-align: right;\">\n",
              "      <th></th>\n",
              "      <th>id</th>\n",
              "      <th>text</th>\n",
              "      <th>target</th>\n",
              "    </tr>\n",
              "  </thead>\n",
              "  <tbody>\n",
              "    <tr>\n",
              "      <th>2342</th>\n",
              "      <td>3369</td>\n",
              "      <td>#download &amp;amp; #watch Demolition Frog (2002) ...</td>\n",
              "      <td>1</td>\n",
              "    </tr>\n",
              "    <tr>\n",
              "      <th>6001</th>\n",
              "      <td>8572</td>\n",
              "      <td>@heyot6 Im not home. I need to watch. [Screams]</td>\n",
              "      <td>0</td>\n",
              "    </tr>\n",
              "    <tr>\n",
              "      <th>6876</th>\n",
              "      <td>9859</td>\n",
              "      <td>Back in Ireland v. sad/traumatised as is freez...</td>\n",
              "      <td>0</td>\n",
              "    </tr>\n",
              "    <tr>\n",
              "      <th>7397</th>\n",
              "      <td>10584</td>\n",
              "      <td>Texas Seeks Comment on Rules for Changes to Wi...</td>\n",
              "      <td>0</td>\n",
              "    </tr>\n",
              "    <tr>\n",
              "      <th>1683</th>\n",
              "      <td>2428</td>\n",
              "      <td>The Witches of the Glass Castle. Supernatural ...</td>\n",
              "      <td>0</td>\n",
              "    </tr>\n",
              "  </tbody>\n",
              "</table>\n",
              "</div>\n",
              "    <div class=\"colab-df-buttons\">\n",
              "\n",
              "  <div class=\"colab-df-container\">\n",
              "    <button class=\"colab-df-convert\" onclick=\"convertToInteractive('df-50f26535-c1d5-4e55-88d9-1642c73aaa76')\"\n",
              "            title=\"Convert this dataframe to an interactive table.\"\n",
              "            style=\"display:none;\">\n",
              "\n",
              "  <svg xmlns=\"http://www.w3.org/2000/svg\" height=\"24px\" viewBox=\"0 -960 960 960\">\n",
              "    <path d=\"M120-120v-720h720v720H120Zm60-500h600v-160H180v160Zm220 220h160v-160H400v160Zm0 220h160v-160H400v160ZM180-400h160v-160H180v160Zm440 0h160v-160H620v160ZM180-180h160v-160H180v160Zm440 0h160v-160H620v160Z\"/>\n",
              "  </svg>\n",
              "    </button>\n",
              "\n",
              "  <style>\n",
              "    .colab-df-container {\n",
              "      display:flex;\n",
              "      gap: 12px;\n",
              "    }\n",
              "\n",
              "    .colab-df-convert {\n",
              "      background-color: #E8F0FE;\n",
              "      border: none;\n",
              "      border-radius: 50%;\n",
              "      cursor: pointer;\n",
              "      display: none;\n",
              "      fill: #1967D2;\n",
              "      height: 32px;\n",
              "      padding: 0 0 0 0;\n",
              "      width: 32px;\n",
              "    }\n",
              "\n",
              "    .colab-df-convert:hover {\n",
              "      background-color: #E2EBFA;\n",
              "      box-shadow: 0px 1px 2px rgba(60, 64, 67, 0.3), 0px 1px 3px 1px rgba(60, 64, 67, 0.15);\n",
              "      fill: #174EA6;\n",
              "    }\n",
              "\n",
              "    .colab-df-buttons div {\n",
              "      margin-bottom: 4px;\n",
              "    }\n",
              "\n",
              "    [theme=dark] .colab-df-convert {\n",
              "      background-color: #3B4455;\n",
              "      fill: #D2E3FC;\n",
              "    }\n",
              "\n",
              "    [theme=dark] .colab-df-convert:hover {\n",
              "      background-color: #434B5C;\n",
              "      box-shadow: 0px 1px 3px 1px rgba(0, 0, 0, 0.15);\n",
              "      filter: drop-shadow(0px 1px 2px rgba(0, 0, 0, 0.3));\n",
              "      fill: #FFFFFF;\n",
              "    }\n",
              "  </style>\n",
              "\n",
              "    <script>\n",
              "      const buttonEl =\n",
              "        document.querySelector('#df-50f26535-c1d5-4e55-88d9-1642c73aaa76 button.colab-df-convert');\n",
              "      buttonEl.style.display =\n",
              "        google.colab.kernel.accessAllowed ? 'block' : 'none';\n",
              "\n",
              "      async function convertToInteractive(key) {\n",
              "        const element = document.querySelector('#df-50f26535-c1d5-4e55-88d9-1642c73aaa76');\n",
              "        const dataTable =\n",
              "          await google.colab.kernel.invokeFunction('convertToInteractive',\n",
              "                                                    [key], {});\n",
              "        if (!dataTable) return;\n",
              "\n",
              "        const docLinkHtml = 'Like what you see? Visit the ' +\n",
              "          '<a target=\"_blank\" href=https://colab.research.google.com/notebooks/data_table.ipynb>data table notebook</a>'\n",
              "          + ' to learn more about interactive tables.';\n",
              "        element.innerHTML = '';\n",
              "        dataTable['output_type'] = 'display_data';\n",
              "        await google.colab.output.renderOutput(dataTable, element);\n",
              "        const docLink = document.createElement('div');\n",
              "        docLink.innerHTML = docLinkHtml;\n",
              "        element.appendChild(docLink);\n",
              "      }\n",
              "    </script>\n",
              "  </div>\n",
              "\n",
              "\n",
              "<div id=\"df-728127fc-43e8-47a4-93b2-597ea471baec\">\n",
              "  <button class=\"colab-df-quickchart\" onclick=\"quickchart('df-728127fc-43e8-47a4-93b2-597ea471baec')\"\n",
              "            title=\"Suggest charts\"\n",
              "            style=\"display:none;\">\n",
              "\n",
              "<svg xmlns=\"http://www.w3.org/2000/svg\" height=\"24px\"viewBox=\"0 0 24 24\"\n",
              "     width=\"24px\">\n",
              "    <g>\n",
              "        <path d=\"M19 3H5c-1.1 0-2 .9-2 2v14c0 1.1.9 2 2 2h14c1.1 0 2-.9 2-2V5c0-1.1-.9-2-2-2zM9 17H7v-7h2v7zm4 0h-2V7h2v10zm4 0h-2v-4h2v4z\"/>\n",
              "    </g>\n",
              "</svg>\n",
              "  </button>\n",
              "\n",
              "<style>\n",
              "  .colab-df-quickchart {\n",
              "      --bg-color: #E8F0FE;\n",
              "      --fill-color: #1967D2;\n",
              "      --hover-bg-color: #E2EBFA;\n",
              "      --hover-fill-color: #174EA6;\n",
              "      --disabled-fill-color: #AAA;\n",
              "      --disabled-bg-color: #DDD;\n",
              "  }\n",
              "\n",
              "  [theme=dark] .colab-df-quickchart {\n",
              "      --bg-color: #3B4455;\n",
              "      --fill-color: #D2E3FC;\n",
              "      --hover-bg-color: #434B5C;\n",
              "      --hover-fill-color: #FFFFFF;\n",
              "      --disabled-bg-color: #3B4455;\n",
              "      --disabled-fill-color: #666;\n",
              "  }\n",
              "\n",
              "  .colab-df-quickchart {\n",
              "    background-color: var(--bg-color);\n",
              "    border: none;\n",
              "    border-radius: 50%;\n",
              "    cursor: pointer;\n",
              "    display: none;\n",
              "    fill: var(--fill-color);\n",
              "    height: 32px;\n",
              "    padding: 0;\n",
              "    width: 32px;\n",
              "  }\n",
              "\n",
              "  .colab-df-quickchart:hover {\n",
              "    background-color: var(--hover-bg-color);\n",
              "    box-shadow: 0 1px 2px rgba(60, 64, 67, 0.3), 0 1px 3px 1px rgba(60, 64, 67, 0.15);\n",
              "    fill: var(--button-hover-fill-color);\n",
              "  }\n",
              "\n",
              "  .colab-df-quickchart-complete:disabled,\n",
              "  .colab-df-quickchart-complete:disabled:hover {\n",
              "    background-color: var(--disabled-bg-color);\n",
              "    fill: var(--disabled-fill-color);\n",
              "    box-shadow: none;\n",
              "  }\n",
              "\n",
              "  .colab-df-spinner {\n",
              "    border: 2px solid var(--fill-color);\n",
              "    border-color: transparent;\n",
              "    border-bottom-color: var(--fill-color);\n",
              "    animation:\n",
              "      spin 1s steps(1) infinite;\n",
              "  }\n",
              "\n",
              "  @keyframes spin {\n",
              "    0% {\n",
              "      border-color: transparent;\n",
              "      border-bottom-color: var(--fill-color);\n",
              "      border-left-color: var(--fill-color);\n",
              "    }\n",
              "    20% {\n",
              "      border-color: transparent;\n",
              "      border-left-color: var(--fill-color);\n",
              "      border-top-color: var(--fill-color);\n",
              "    }\n",
              "    30% {\n",
              "      border-color: transparent;\n",
              "      border-left-color: var(--fill-color);\n",
              "      border-top-color: var(--fill-color);\n",
              "      border-right-color: var(--fill-color);\n",
              "    }\n",
              "    40% {\n",
              "      border-color: transparent;\n",
              "      border-right-color: var(--fill-color);\n",
              "      border-top-color: var(--fill-color);\n",
              "    }\n",
              "    60% {\n",
              "      border-color: transparent;\n",
              "      border-right-color: var(--fill-color);\n",
              "    }\n",
              "    80% {\n",
              "      border-color: transparent;\n",
              "      border-right-color: var(--fill-color);\n",
              "      border-bottom-color: var(--fill-color);\n",
              "    }\n",
              "    90% {\n",
              "      border-color: transparent;\n",
              "      border-bottom-color: var(--fill-color);\n",
              "    }\n",
              "  }\n",
              "</style>\n",
              "\n",
              "  <script>\n",
              "    async function quickchart(key) {\n",
              "      const quickchartButtonEl =\n",
              "        document.querySelector('#' + key + ' button');\n",
              "      quickchartButtonEl.disabled = true;  // To prevent multiple clicks.\n",
              "      quickchartButtonEl.classList.add('colab-df-spinner');\n",
              "      try {\n",
              "        const charts = await google.colab.kernel.invokeFunction(\n",
              "            'suggestCharts', [key], {});\n",
              "      } catch (error) {\n",
              "        console.error('Error during call to suggestCharts:', error);\n",
              "      }\n",
              "      quickchartButtonEl.classList.remove('colab-df-spinner');\n",
              "      quickchartButtonEl.classList.add('colab-df-quickchart-complete');\n",
              "    }\n",
              "    (() => {\n",
              "      let quickchartButtonEl =\n",
              "        document.querySelector('#df-728127fc-43e8-47a4-93b2-597ea471baec button');\n",
              "      quickchartButtonEl.style.display =\n",
              "        google.colab.kernel.accessAllowed ? 'block' : 'none';\n",
              "    })();\n",
              "  </script>\n",
              "</div>\n",
              "\n",
              "    </div>\n",
              "  </div>\n"
            ]
          },
          "metadata": {},
          "execution_count": 8
        }
      ]
    },
    {
      "cell_type": "code",
      "source": [
        "#Batch is a hyperparameter that can effect the model performance and training process. I can be 2,64,128 and so on.\n",
        "#it depends on factors such as the size of your dataset, the available memory on your hardware, and the computational resources at your disposal.\n",
        "\n",
        "\n",
        "#Convert train data to tf.data.Dataset object\n",
        "BATCH = 32\n",
        "#Concatenate the text data of the columns \"text\" and \"target\"\n",
        "train_tf = tf.data.Dataset.from_tensor_slices(\n",
        "    (train['text'], train[TARGET]))\n",
        "\n",
        "#Convert the data into batch\n",
        "train_tf = train_tf.shuffle(int((SEED*13)/8)).batch(BATCH)\n",
        "\n",
        "#Convert test data to tf.data.Dataset object\n",
        "test_tf = tf.data.Dataset.from_tensor_slices(test['text'])\n",
        "\n",
        "#Convert the data into batch\n",
        "test_tf = test_tf.batch(BATCH)"
      ],
      "metadata": {
        "id": "A5JxaMOgPK5a"
      },
      "execution_count": 9,
      "outputs": []
    },
    {
      "cell_type": "code",
      "source": [],
      "metadata": {
        "id": "XG_vfegxcqRB"
      },
      "execution_count": 9,
      "outputs": []
    },
    {
      "cell_type": "code",
      "source": [
        "def check_max_length_sentence(df):\n",
        "    max_length = 0\n",
        "    for text in df[\"text\"]:\n",
        "        if len(text) > max_length:\n",
        "            max_length = len(text)\n",
        "    print(\"Maximum length of Text column is:\",max_length)\n",
        "check_max_length_sentence(train)"
      ],
      "metadata": {
        "colab": {
          "base_uri": "https://localhost:8080/"
        },
        "id": "pTfxtNNtRP7k",
        "outputId": "d4d0a8ed-8de9-4cd5-a6dc-22b3308d8e6b"
      },
      "execution_count": 10,
      "outputs": [
        {
          "output_type": "stream",
          "name": "stdout",
          "text": [
            "Maximum length of Text column is: 157\n"
          ]
        }
      ]
    },
    {
      "cell_type": "code",
      "source": [
        "\n",
        "check_max_length_sentence(test)"
      ],
      "metadata": {
        "colab": {
          "base_uri": "https://localhost:8080/"
        },
        "id": "HqH6c-WtSjaG",
        "outputId": "e2c5ed6e-ba71-4681-c69b-276b34f894c2"
      },
      "execution_count": 11,
      "outputs": [
        {
          "output_type": "stream",
          "name": "stdout",
          "text": [
            "Maximum length of Text column is: 151\n"
          ]
        }
      ]
    },
    {
      "cell_type": "code",
      "source": [
        "\n"
      ],
      "metadata": {
        "id": "6y-lB4BScnyS"
      },
      "execution_count": 11,
      "outputs": []
    },
    {
      "cell_type": "code",
      "source": [
        "\n",
        "max_length = 165\n",
        "max_tokens = 20_000\n",
        "\n",
        "#Instantiate the TextVectorization layer\n",
        "text_vectorization = layers.TextVectorization(max_tokens=max_tokens,\n",
        "                                              output_mode='int',\n",
        "                                              output_sequence_length=max_length\n",
        "                                             )"
      ],
      "metadata": {
        "id": "g4NnNwwoRP-z"
      },
      "execution_count": 12,
      "outputs": []
    },
    {
      "cell_type": "markdown",
      "source": [
        "**twt:** This is a placeholder variable representing the text data in each training example. The name \"twt\" is an abbreviation for \"tweet\". It assumes that the training data consists of pairs where the first element is the text data (tweets, in this case) and the second element is the target value."
      ],
      "metadata": {
        "id": "r8rE39yI_G3M"
      }
    },
    {
      "cell_type": "code",
      "source": [
        "\n",
        "text_vectorization.adapt(train_tf.map(lambda twt, target: twt))"
      ],
      "metadata": {
        "id": "stMAVjjfRQp7"
      },
      "execution_count": 13,
      "outputs": []
    },
    {
      "cell_type": "code",
      "source": [
        "#Get the vocabulary\n",
        "vocab = text_vectorization.get_vocabulary()\n",
        "print(\"Vocabulary size =\",len(vocab))\n",
        "\n",
        "#Convert the list object to NumPy array for decoding the vectorized data\n",
        "vocab = np.array(vocab)"
      ],
      "metadata": {
        "colab": {
          "base_uri": "https://localhost:8080/"
        },
        "id": "S9scNIJkcg1B",
        "outputId": "ebf3ebbf-beb2-46f1-b5e5-abd1210d4d80"
      },
      "execution_count": 14,
      "outputs": [
        {
          "output_type": "stream",
          "name": "stdout",
          "text": [
            "Vocabulary size = 20000\n"
          ]
        }
      ]
    },
    {
      "cell_type": "markdown",
      "source": [
        "**train_tf:** This variable represents the training dataset, which is assumed to be a **tf.data.Dataset** object.\n",
        "\n",
        "**lambda twt, target:** (text_vectorization(twt), target): This lambda function is applied to each element of the training dataset. It takes a pair (twt, target) where twt is the text data and target is the target value. It then applies the text_vectorization layer to vectorize the text data and keeps the target value unchanged. The result is a pair (vectorized_text, target).\n",
        "\n",
        "**num_parallel_calls=tf.data.AUTOTUNE:** This parameter is used to parallelize the mapping operation, allowing for faster processing. **tf.data.AUTOTUNE** automatically determines the level of parallelism based on available resources."
      ],
      "metadata": {
        "id": "Q5gOi9XwAM7x"
      }
    },
    {
      "cell_type": "code",
      "source": [
        "#Vectorize the train dataset\n",
        "train_tf = train_tf.map(lambda twt, target: (text_vectorization(twt), target),\n",
        "                   num_parallel_calls=tf.data.AUTOTUNE)\n",
        "\n",
        "#Vectorize the test dataset\n",
        "test_tf = test_tf.map(lambda twt: text_vectorization(twt),\n",
        "                      num_parallel_calls=tf.data.AUTOTUNE)"
      ],
      "metadata": {
        "id": "zq7WWSGqcuyo"
      },
      "execution_count": 15,
      "outputs": []
    },
    {
      "cell_type": "code",
      "source": [
        "#Define a function to print the tokenized data\n",
        "def print_sample(data_obj):\n",
        "    for sample, traget in data_obj:\n",
        "        #Print the first item\n",
        "        print(\"1st sample:\",sample[0].numpy())\n",
        "        print(\"\\n\")\n",
        "        #Print the second item\n",
        "        print(\"2nd sample:\",sample[1].numpy())\n",
        "        print(\"\\n\")\n",
        "        #Print the third item\n",
        "        print(\"3rd sample:\",sample[2].numpy())\n",
        "        print(\"\\n\")\n",
        "        break"
      ],
      "metadata": {
        "id": "HGcxhQj8cyL0"
      },
      "execution_count": 16,
      "outputs": []
    },
    {
      "cell_type": "code",
      "source": [
        "print_sample(train_tf)"
      ],
      "metadata": {
        "colab": {
          "base_uri": "https://localhost:8080/"
        },
        "id": "eBtPvykcc0rL",
        "outputId": "424ea614-be09-41f1-a255-07293d05baec"
      },
      "execution_count": 17,
      "outputs": [
        {
          "output_type": "stream",
          "name": "stdout",
          "text": [
            "1st sample: [ 113  646    5   48    5    3 2747 1619  389    6 2693   14   19 2111\n",
            "    0    0    0    0    0    0    0    0    0    0    0    0    0    0\n",
            "    0    0    0    0    0    0    0    0    0    0    0    0    0    0\n",
            "    0    0    0    0    0    0    0    0    0    0    0    0    0    0\n",
            "    0    0    0    0    0    0    0    0    0    0    0    0    0    0\n",
            "    0    0    0    0    0    0    0    0    0    0    0    0    0    0\n",
            "    0    0    0    0    0    0    0    0    0    0    0    0    0    0\n",
            "    0    0    0    0    0    0    0    0    0    0    0    0    0    0\n",
            "    0    0    0    0    0    0    0    0    0    0    0    0    0    0\n",
            "    0    0    0    0    0    0    0    0    0    0    0    0    0    0\n",
            "    0    0    0    0    0    0    0    0    0    0    0    0    0    0\n",
            "    0    0    0    0    0    0    0    0    0    0    0]\n",
            "\n",
            "\n",
            "2nd sample: [  327    19     9    90     8   163   966     5   618    13   122   213\n",
            "  1463     4     3    87  5683  2340   850 17293     0     0     0     0\n",
            "     0     0     0     0     0     0     0     0     0     0     0     0\n",
            "     0     0     0     0     0     0     0     0     0     0     0     0\n",
            "     0     0     0     0     0     0     0     0     0     0     0     0\n",
            "     0     0     0     0     0     0     0     0     0     0     0     0\n",
            "     0     0     0     0     0     0     0     0     0     0     0     0\n",
            "     0     0     0     0     0     0     0     0     0     0     0     0\n",
            "     0     0     0     0     0     0     0     0     0     0     0     0\n",
            "     0     0     0     0     0     0     0     0     0     0     0     0\n",
            "     0     0     0     0     0     0     0     0     0     0     0     0\n",
            "     0     0     0     0     0     0     0     0     0     0     0     0\n",
            "     0     0     0     0     0     0     0     0     0     0     0     0\n",
            "     0     0     0     0     0     0     0     0     0]\n",
            "\n",
            "\n",
            "3rd sample: [  97 4350   29  580   82 2539   82  241   23 2248    0    0    0    0\n",
            "    0    0    0    0    0    0    0    0    0    0    0    0    0    0\n",
            "    0    0    0    0    0    0    0    0    0    0    0    0    0    0\n",
            "    0    0    0    0    0    0    0    0    0    0    0    0    0    0\n",
            "    0    0    0    0    0    0    0    0    0    0    0    0    0    0\n",
            "    0    0    0    0    0    0    0    0    0    0    0    0    0    0\n",
            "    0    0    0    0    0    0    0    0    0    0    0    0    0    0\n",
            "    0    0    0    0    0    0    0    0    0    0    0    0    0    0\n",
            "    0    0    0    0    0    0    0    0    0    0    0    0    0    0\n",
            "    0    0    0    0    0    0    0    0    0    0    0    0    0    0\n",
            "    0    0    0    0    0    0    0    0    0    0    0    0    0    0\n",
            "    0    0    0    0    0    0    0    0    0    0    0]\n",
            "\n",
            "\n"
          ]
        }
      ]
    },
    {
      "cell_type": "code",
      "source": [
        "#Print the vectorized tweet and the decoded tweet\n",
        "for tx in train_tf:\n",
        "    print(\"\\t\\t\\t\\tVectorized Tweet:\\n\",tx[0][0])\n",
        "    print(\"\\n\\n\\t\\t\\t\\tDecoded Tweet:\\n\", \" \".join(vocab[tx[0][0].numpy()]))\n",
        "    break"
      ],
      "metadata": {
        "colab": {
          "base_uri": "https://localhost:8080/"
        },
        "id": "UCj0pVIHc2m0",
        "outputId": "9a29e60c-71ab-493e-ada9-9a59d87507e7"
      },
      "execution_count": 18,
      "outputs": [
        {
          "output_type": "stream",
          "name": "stdout",
          "text": [
            "\t\t\t\tVectorized Tweet:\n",
            " tf.Tensor(\n",
            "[  533   167    91   386    20    42  1317    10  1147  8657    33  6277\n",
            "     5    24     3 10501 16101     0     0     0     0     0     0     0\n",
            "     0     0     0     0     0     0     0     0     0     0     0     0\n",
            "     0     0     0     0     0     0     0     0     0     0     0     0\n",
            "     0     0     0     0     0     0     0     0     0     0     0     0\n",
            "     0     0     0     0     0     0     0     0     0     0     0     0\n",
            "     0     0     0     0     0     0     0     0     0     0     0     0\n",
            "     0     0     0     0     0     0     0     0     0     0     0     0\n",
            "     0     0     0     0     0     0     0     0     0     0     0     0\n",
            "     0     0     0     0     0     0     0     0     0     0     0     0\n",
            "     0     0     0     0     0     0     0     0     0     0     0     0\n",
            "     0     0     0     0     0     0     0     0     0     0     0     0\n",
            "     0     0     0     0     0     0     0     0     0     0     0     0\n",
            "     0     0     0     0     0     0     0     0     0], shape=(165,), dtype=int64)\n",
            "\n",
            "\n",
            "\t\t\t\tDecoded Tweet:\n",
            " sure take them away from fire fighting for king stevie amp crusty to have a photoop httptcoepex4axg4b                                                                                                                                                    \n"
          ]
        }
      ]
    },
    {
      "cell_type": "markdown",
      "source": [
        "**TransformerEncoder(layers.Layer):** Transformers encoding defines a custom layer in TensorFlow/Keras for a Transformer Encoder. Transformers are a type of neural network architecture commonly used in natural language processing and other sequence-to-sequence tasks.The class TransformerEncoder is defined, inheriting from layers.Layer, indicating that it's a custom layer in Keras.\n",
        "\n",
        "**Forward Pass Implementation (call method):**\n",
        "\n",
        "The call method defines the forward pass for the layer.\n",
        "If a mask is provided, it is expanded to match the shape of the inputs.\n",
        "The attention mechanism is applied using the MultiHeadAttention layer (self.attention).\n",
        "Layer normalization is applied to the sum of the inputs and the attention output (layernorm_1).\n",
        "The result is passed through a dense layer (dense_prof).\n",
        "Again, layer normalization is applied to the sum of the previous output and the dense layer output (layernorm_2).\n",
        "The final result is the sum of the input and the output of the dense layer.\n",
        "\n",
        "This code defines a custom Transformer Encoder layer with attention mechanism, dense layers, and layer normalization for processing sequential data in neural network models\n",
        "\n"
      ],
      "metadata": {
        "id": "5KtuAUuWHL7q"
      }
    },
    {
      "cell_type": "code",
      "source": [
        "class TransformerEncoder(layers.Layer):\n",
        "    def __init__(self, embed_dim, dense_dim, num_heads, **kwargs):\n",
        "        super().__init__(**kwargs)\n",
        "        self.embed_dim = embed_dim\n",
        "        self.dense_dim = dense_dim\n",
        "        self.num_heads = num_heads\n",
        "\n",
        "        self.attention = layers.MultiHeadAttention(num_heads=num_heads, key_dim=embed_dim)\n",
        "        self.dense_prof = keras.Sequential(\n",
        "            [layers.Dense(dense_dim, activation='relu'),\n",
        "             layers.Dense(embed_dim),]\n",
        "                                )\n",
        "        self.layernorm_1 = layers.LayerNormalization()\n",
        "        self.layernorm_2 = layers.LayerNormalization()\n",
        "        self.max_pool1 = layers.GlobalMaxPooling1D()\n",
        "\n",
        "    # Define all methods where forward pass is implement\n",
        "\n",
        "    def call(self, inputs, mask = None):\n",
        "        if mask is not None:\n",
        "            mask = mask[:, tf.newaxis, :]\n",
        "\n",
        "        # Apply the attention layers\n",
        "        attention_output = self.attention(inputs, inputs, attention_mask = mask)\n",
        "        #Normalizaion the data\n",
        "        proj_input = self.layernorm_1(inputs + attention_output)\n",
        "        #Apply Dense Layer\n",
        "        proj_output= self.dense_prof(proj_input)\n",
        "        #Normalization the data and return it\n",
        "        return self.layernorm_2(proj_input + proj_output)\n",
        "\n",
        "    #Define configuration methods\n",
        "    def get_config(self):\n",
        "        config = super().get_config()\n",
        "        config_update({ #config.update\n",
        "            'embed_dim' : self.embed_dim,\n",
        "            'num_heads' : self.num_heads,\n",
        "            'dense_dim': self.dense_dim\n",
        "        })\n",
        "\n",
        "        return config"
      ],
      "metadata": {
        "id": "zyNlYipQc6hT"
      },
      "execution_count": 19,
      "outputs": []
    },
    {
      "cell_type": "markdown",
      "source": [
        "In both cases, these classes are custom layers because they are defined as subclasses of layers.Layer, which is the way to create custom layers in TensorFlow/Keras. The term \"custom layer\" is often used interchangeably with \"subclass of layers\" in this context. The key aspect is that these classes extend the functionality of Keras layers to implement custom behavior."
      ],
      "metadata": {
        "id": "kcYq27ewLGtJ"
      }
    },
    {
      "cell_type": "code",
      "source": [
        "# Implement Positional embedding as a subclass layers\n",
        "class PositionalEmbedding(layers.Layer):\n",
        "    def __init__(self, sequence_length, input_dim, output_dim, **kwargs):\n",
        "        super().__init__(**kwargs)\n",
        "        self.sequence_legth = sequence_length\n",
        "        self.input_dim = input_dim\n",
        "        self.output_dim = output_dim\n",
        "        self.token_embeddings = layers.Embedding(\n",
        "            input_dim = input_dim, output_dim = output_dim)\n",
        "        self.positional_embeddings = layers.Embedding(\n",
        "            input_dim=sequence_length, output_dim=output_dim)\n",
        "\n",
        "    def call(self, inputs):\n",
        "        length = tf.shape(inputs)[-1]\n",
        "        positions = tf.range(start = 0, limit=length,delta  =1)\n",
        "        embedded_tokens = self.token_embeddings(inputs)\n",
        "        embedded_positions = self.positional_embeddings(positions)\n",
        "        return embedded_tokens + embedded_positions\n",
        "\n",
        "    def compute_mask(self, inputs, mask = None):\n",
        "        return tf.math.not_equal(inputs , 0)\n",
        "\n",
        "    def get_config(self):\n",
        "        config = super().get_config()\n",
        "        config.update({\n",
        "            'output_dim' : self.output_dim,\n",
        "            'sequence_lenght': self.sequence_legth,\n",
        "            'input_dim': self.input_dim\n",
        "        })\n",
        "        return config\n"
      ],
      "metadata": {
        "id": "C3IU8IWWc97c"
      },
      "execution_count": 20,
      "outputs": []
    },
    {
      "cell_type": "code",
      "source": [
        "# Constract the model\n",
        "# Define the input\n",
        "inputs = keras.Input(shape=(None,), dtype='int64')\n",
        "\n",
        "# apply positional embeddings\n",
        "pos_embed = PositionalEmbedding(sequence_length=165,\n",
        "                               input_dim=20_000,\n",
        "                                output_dim=256)(inputs)\n",
        "\n",
        "# apply the encoder\n",
        "encoder = TransformerEncoder(embed_dim=256,\n",
        "                            dense_dim=32,\n",
        "                            num_heads =8)(pos_embed)\n",
        "x = layers.GlobalMaxPooling1D()(encoder)\n",
        "x = layers.Dropout(0.5)(x)\n",
        "output = layers.Dense(units=1, activation='sigmoid')(x)\n",
        "model = keras.Model(inputs= inputs, outputs = output)"
      ],
      "metadata": {
        "id": "LHktDR26dAcU"
      },
      "execution_count": 21,
      "outputs": []
    },
    {
      "cell_type": "code",
      "source": [
        "# Compile the model\n",
        "model.compile(optimizer=tf.keras.optimizers.Adam(learning_rate=1e-5, beta_1=0.9, beta_2=0.98,epsilon=1e-9),\n",
        "              loss=tf.keras.losses.BinaryCrossentropy(),\n",
        "              metrics=['accuracy']\n",
        "             )"
      ],
      "metadata": {
        "id": "OCjA6DU7dCyE"
      },
      "execution_count": 22,
      "outputs": []
    },
    {
      "cell_type": "code",
      "source": [
        "model.summary()"
      ],
      "metadata": {
        "colab": {
          "base_uri": "https://localhost:8080/"
        },
        "id": "lVZvIl-WdFQE",
        "outputId": "cf6243a4-cff1-43e5-bfc2-a8d7256b3fbd"
      },
      "execution_count": 23,
      "outputs": [
        {
          "output_type": "stream",
          "name": "stdout",
          "text": [
            "Model: \"model\"\n",
            "_________________________________________________________________\n",
            " Layer (type)                Output Shape              Param #   \n",
            "=================================================================\n",
            " input_1 (InputLayer)        [(None, None)]            0         \n",
            "                                                                 \n",
            " positional_embedding (Posi  (None, None, 256)         5162240   \n",
            " tionalEmbedding)                                                \n",
            "                                                                 \n",
            " transformer_encoder (Trans  (None, None, 256)         2121248   \n",
            " formerEncoder)                                                  \n",
            "                                                                 \n",
            " global_max_pooling1d_1 (Gl  (None, 256)               0         \n",
            " obalMaxPooling1D)                                               \n",
            "                                                                 \n",
            " dropout (Dropout)           (None, 256)               0         \n",
            "                                                                 \n",
            " dense_2 (Dense)             (None, 1)                 257       \n",
            "                                                                 \n",
            "=================================================================\n",
            "Total params: 7283745 (27.79 MB)\n",
            "Trainable params: 7283745 (27.79 MB)\n",
            "Non-trainable params: 0 (0.00 Byte)\n",
            "_________________________________________________________________\n"
          ]
        }
      ]
    },
    {
      "cell_type": "code",
      "source": [
        "# plot model\n",
        "keras.utils.plot_model(model=model,\n",
        "                      to_file='model.png',\n",
        "                      show_shapes = True,\n",
        "                      show_layer_names=True,\n",
        "                      expand_nested=True,\n",
        "                      show_layer_activations=True,\n",
        "                      show_trainable=True)"
      ],
      "metadata": {
        "colab": {
          "base_uri": "https://localhost:8080/",
          "height": 644
        },
        "id": "gqEt5RZ7dHJk",
        "outputId": "eea47da2-e0fd-41d3-953c-3bf75425bb0d"
      },
      "execution_count": 24,
      "outputs": [
        {
          "output_type": "execute_result",
          "data": {
            "image/png": "[encoded data removed]",
            "text/plain": [
              "<IPython.core.display.Image object>"
            ]
          },
          "metadata": {},
          "execution_count": 24
        }
      ]
    },
    {
      "cell_type": "code",
      "source": [
        "# Define validation Data\n",
        "val_size = int(0.25 * len(train_tf))"
      ],
      "metadata": {
        "id": "EHadAwXDdPZU"
      },
      "execution_count": 25,
      "outputs": []
    },
    {
      "cell_type": "code",
      "source": [
        "# Split the dta into training and validation\n",
        "validation_data = train_tf.take(val_size)\n",
        "train_data = train_tf.skip(val_size)"
      ],
      "metadata": {
        "id": "ccVMK3YxdRpU"
      },
      "execution_count": 26,
      "outputs": []
    },
    {
      "cell_type": "markdown",
      "source": [
        "In summary, the EarlyStopping callback is used to monitor the validation loss during training, and if there is no improvement for a specified number of epochs (patience),\n",
        "the training process is stopped early.\n",
        "With the specified patience=3, if the validation loss does not improve for three consecutive epochs, the training process will be stopped early.\n",
        "This helps prevent overfitting and can save computational resources by avoiding unnecessary training epochs when the model's performance on the validation set has plateaued."
      ],
      "metadata": {
        "id": "9EaJQuG4rCjJ"
      }
    },
    {
      "cell_type": "code",
      "source": [],
      "metadata": {
        "id": "3R-ac2W2oxB9"
      },
      "execution_count": 26,
      "outputs": []
    },
    {
      "cell_type": "code",
      "source": [
        "from tensorflow import keras\n",
        "from tensorflow.keras.callbacks import EarlyStopping\n",
        "early_stopping_gru = EarlyStopping(monitor='val_loss', patience=3)\n",
        "\n",
        "history = model.fit(train_data,\n",
        "                    epochs=35, # Number of epochs (iterations over the training dataset)\n",
        "                    validation_data=validation_data,\n",
        "                    callbacks=early_stopping_gru\n",
        "                    )"
      ],
      "metadata": {
        "colab": {
          "base_uri": "https://localhost:8080/"
        },
        "id": "dqgFfRnadTiU",
        "outputId": "5b1e5712-031d-4342-92c5-7a8ddf81d16a"
      },
      "execution_count": null,
      "outputs": [
        {
          "output_type": "stream",
          "name": "stdout",
          "text": [
            "Epoch 1/35\n",
            "179/179 [==============================] - 614s 3s/step - loss: 1.2614 - accuracy: 0.5162 - val_loss: 0.6977 - val_accuracy: 0.5800\n",
            "Epoch 2/35\n",
            " 13/179 [=>............................] - ETA: 8:09 - loss: 1.0960 - accuracy: 0.5649"
          ]
        }
      ]
    },
    {
      "cell_type": "code",
      "source": [],
      "metadata": {
        "id": "cFxY-ro1qc5P"
      },
      "execution_count": null,
      "outputs": []
    },
    {
      "cell_type": "markdown",
      "source": [
        " # Number of batches= Total samples / Batch size\n",
        "\n"
      ],
      "metadata": {
        "id": "_KbGg8pTqhvI"
      }
    },
    {
      "cell_type": "code",
      "source": [
        "model.evaluate(validation_data)"
      ],
      "metadata": {
        "id": "QVzfBpIYdVts"
      },
      "execution_count": null,
      "outputs": []
    },
    {
      "cell_type": "code",
      "source": [
        "acc = history.history['accuracy']\n",
        "val_acc = history.history['val_accuracy']\n",
        "loss = history.history['loss']\n",
        "val_loss = history.history['val_loss']"
      ],
      "metadata": {
        "id": "H7Nz8lTSdojF"
      },
      "execution_count": null,
      "outputs": []
    },
    {
      "cell_type": "code",
      "source": [
        "Epochs = len(acc)\n",
        "plt.figure(figsize=(12,6))\n",
        "plt.subplot(1,2,1)\n",
        "plt.plot(range(Epochs),acc, label='Training Accuracy')\n",
        "plt.plot(range(Epochs),val_acc, label='Validation Accuracy')\n",
        "plt.legend(loc='lower right')\n",
        "plt.title('Training and Validation Accuracy')\n",
        "\n",
        "plt.figure(figsize=(12,6))\n",
        "plt.subplot(1,2,1)\n",
        "plt.plot(range(Epochs),loss, label='Training loss')\n",
        "plt.plot(range(Epochs),val_loss, label='Validation loss')\n",
        "plt.legend(loc='lower right')\n",
        "plt.title('Training and Validation loss')"
      ],
      "metadata": {
        "id": "XGXt2K71dpY8"
      },
      "execution_count": null,
      "outputs": []
    },
    {
      "cell_type": "code",
      "source": [
        "# Plotting the training and validation loss\n",
        "loss = history.history[\"loss\"]\n",
        "val_loss = history.history[\"val_loss\"]\n",
        "epochs = range(1, len(loss) + 1)\n",
        "plt.plot(epochs, loss, \"bo\", label=\"Training loss\")\n",
        "plt.plot(epochs, val_loss, \"b\", label=\"Validation loss\")\n",
        "plt.title(\"Training and validation loss\")\n",
        "plt.xlabel(\"Epochs\")\n",
        "plt.ylabel(\"Loss\")\n",
        "plt.legend()"
      ],
      "metadata": {
        "id": "NfwF_gOkdpbk"
      },
      "execution_count": null,
      "outputs": []
    },
    {
      "cell_type": "code",
      "source": [
        "# Plotting the training and validation accuracy\n",
        "acc = history.history[\"accuracy\"]\n",
        "val_acc = history.history[\"val_accuracy\"]\n",
        "plt.plot(epochs, acc, \"bo\", label=\"Training accuracy\")\n",
        "plt.plot(epochs, val_acc, \"b\", label=\"Validation accuracy\")\n",
        "plt.title(\"Training and validation accuracy\")\n",
        "plt.xlabel(\"Epochs\")\n",
        "plt.ylabel(\"Accuracy\")\n",
        "plt.legend()"
      ],
      "metadata": {
        "id": "27l5MtrrdpeG"
      },
      "execution_count": null,
      "outputs": []
    },
    {
      "cell_type": "code",
      "source": [
        "prdictions = model.predict(test_tf)"
      ],
      "metadata": {
        "id": "3BGqtdpcd0Jv"
      },
      "execution_count": null,
      "outputs": []
    },
    {
      "cell_type": "code",
      "source": [
        "thresholds = 0.5\n",
        "# convert the float values to binary\n",
        "final_predictions = [1 if i > thresholds else 0 for i in prdictions]\n",
        "final_predictions[:10]"
      ],
      "metadata": {
        "id": "5NujcnzQd0Ov"
      },
      "execution_count": null,
      "outputs": []
    },
    {
      "cell_type": "code",
      "source": [
        "sample"
      ],
      "metadata": {
        "id": "ge-FItDDd0Rf"
      },
      "execution_count": null,
      "outputs": []
    },
    {
      "cell_type": "code",
      "source": [
        "submisssion = pd.DataFrame(columns=['id','target'])\n",
        "submisssion['target'] = final_predictions\n",
        "submisssion['id'] = test.id\n",
        "submisssion"
      ],
      "metadata": {
        "id": "DApI8fDxd6sO"
      },
      "execution_count": null,
      "outputs": []
    },
    {
      "cell_type": "code",
      "source": [
        "submisssion.to_csv('submission_final.csv',index=False)"
      ],
      "metadata": {
        "id": "ZkXZvIhTd6vN"
      },
      "execution_count": null,
      "outputs": []
    },
    {
      "cell_type": "code",
      "source": [],
      "metadata": {
        "id": "MZ_OSykjEqYT"
      },
      "execution_count": null,
      "outputs": []
    }
  ]
}